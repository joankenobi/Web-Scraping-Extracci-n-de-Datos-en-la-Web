{
 "cells": [
  {
   "cell_type": "code",
   "execution_count": 25,
   "metadata": {},
   "outputs": [],
   "source": [
    "from selenium import webdriver\n",
    "from selenium.webdriver.common.by import By"
   ]
  },
  {
   "cell_type": "code",
   "execution_count": 13,
   "metadata": {},
   "outputs": [],
   "source": [
    "url=\"https://www.latamairlines.com/cl/es\""
   ]
  },
  {
   "cell_type": "code",
   "execution_count": 20,
   "metadata": {},
   "outputs": [],
   "source": [
    "options=webdriver.ChromeOptions()\n",
    "options.add_argument(\"--incognito\")"
   ]
  },
  {
   "cell_type": "code",
   "execution_count": 21,
   "metadata": {},
   "outputs": [
    {
     "name": "stderr",
     "output_type": "stream",
     "text": [
      "C:\\Users\\joan1\\AppData\\Local\\Temp\\ipykernel_9452\\1221195829.py:1: DeprecationWarning: executable_path has been deprecated, please pass in a Service object\n",
      "  driver=webdriver.Chrome(executable_path=\"./chromedriver.exe\", options=options)\n"
     ]
    }
   ],
   "source": [
    "driver=webdriver.Chrome(executable_path=\"./chromedriver.exe\", options=options)"
   ]
  },
  {
   "cell_type": "code",
   "execution_count": 22,
   "metadata": {},
   "outputs": [],
   "source": [
    "driver.get(url)"
   ]
  },
  {
   "cell_type": "code",
   "execution_count": 39,
   "metadata": {},
   "outputs": [],
   "source": [
    "vuelos_offer=driver.find_elements(by=By.XPATH, value='//div[@class=\"card-offers-v1\"]')"
   ]
  },
  {
   "cell_type": "code",
   "execution_count": 40,
   "metadata": {},
   "outputs": [
    {
     "data": {
      "text/plain": [
       "<selenium.webdriver.remote.webelement.WebElement (session=\"d2ed49549a663545df50d1c4991d2eac\", element=\"669a2a8e-5c5e-4479-aa31-919ad62bc053\")>"
      ]
     },
     "execution_count": 40,
     "metadata": {},
     "output_type": "execute_result"
    }
   ],
   "source": [
    "vuelos_offer[0]"
   ]
  },
  {
   "cell_type": "code",
   "execution_count": 55,
   "metadata": {},
   "outputs": [
    {
     "data": {
      "text/plain": [
       "[<selenium.webdriver.remote.webelement.WebElement (session=\"d2ed49549a663545df50d1c4991d2eac\", element=\"ea273448-b8ff-4479-8ebb-976591692a4c\")>,\n",
       " <selenium.webdriver.remote.webelement.WebElement (session=\"d2ed49549a663545df50d1c4991d2eac\", element=\"76cfbe7d-3d62-438c-8c2f-0a9851fbf7a2\")>,\n",
       " <selenium.webdriver.remote.webelement.WebElement (session=\"d2ed49549a663545df50d1c4991d2eac\", element=\"b0a1f874-fb3b-4e38-91a3-421c4026be76\")>,\n",
       " <selenium.webdriver.remote.webelement.WebElement (session=\"d2ed49549a663545df50d1c4991d2eac\", element=\"d2c94280-a2db-48d9-9428-9c1bd9ee6a91\")>,\n",
       " <selenium.webdriver.remote.webelement.WebElement (session=\"d2ed49549a663545df50d1c4991d2eac\", element=\"06ca5713-187d-4b75-9405-3b12155e6d49\")>]"
      ]
     },
     "execution_count": 55,
     "metadata": {},
     "output_type": "execute_result"
    }
   ],
   "source": [
    "precios=vuelos_offer[0].find_elements(by=By.XPATH, value='.//div[@class=\"amount\"]')\n",
    "precios"
   ]
  },
  {
   "cell_type": "code",
   "execution_count": 56,
   "metadata": {},
   "outputs": [
    {
     "data": {
      "text/plain": [
       "'CLP 180.283'"
      ]
     },
     "execution_count": 56,
     "metadata": {},
     "output_type": "execute_result"
    }
   ],
   "source": [
    "precios[0].text"
   ]
  },
  {
   "cell_type": "code",
   "execution_count": 11,
   "metadata": {},
   "outputs": [],
   "source": [
    "driver.close()"
   ]
  }
 ],
 "metadata": {
  "kernelspec": {
   "display_name": "venv",
   "language": "python",
   "name": "python3"
  },
  "language_info": {
   "codemirror_mode": {
    "name": "ipython",
    "version": 3
   },
   "file_extension": ".py",
   "mimetype": "text/x-python",
   "name": "python",
   "nbconvert_exporter": "python",
   "pygments_lexer": "ipython3",
   "version": "3.10.10"
  },
  "orig_nbformat": 4
 },
 "nbformat": 4,
 "nbformat_minor": 2
}
